{
 "cells": [
  {
   "cell_type": "markdown",
   "metadata": {},
   "source": [
    "## Исследование надёжности заёмщиков\n",
    "\n",
    "Заказчик — кредитный отдел банка. Нужно разобраться, влияет ли семейное положение и количество детей клиента на факт погашения кредита в срок. Входные данные от банка — статистика о платёжеспособности клиентов.\n",
    "\n",
    "Результаты исследования будут учтены при построении модели **кредитного скоринга** — специальной системы, которая оценивает способность потенциального заёмщика вернуть кредит банку."
   ]
  },
  {
   "cell_type": "markdown",
   "metadata": {},
   "source": [
    "### Шаг 1. Откройте файл с данными и изучите общую информацию. "
   ]
  },
  {
   "cell_type": "code",
   "execution_count": 1,
   "metadata": {},
   "outputs": [
    {
     "name": "stdout",
     "output_type": "stream",
     "text": [
      "<class 'pandas.core.frame.DataFrame'>\n",
      "RangeIndex: 21525 entries, 0 to 21524\n",
      "Data columns (total 12 columns):\n",
      "children            21525 non-null int64\n",
      "days_employed       19351 non-null float64\n",
      "dob_years           21525 non-null int64\n",
      "education           21525 non-null object\n",
      "education_id        21525 non-null int64\n",
      "family_status       21525 non-null object\n",
      "family_status_id    21525 non-null int64\n",
      "gender              21525 non-null object\n",
      "income_type         21525 non-null object\n",
      "debt                21525 non-null int64\n",
      "total_income        19351 non-null float64\n",
      "purpose             21525 non-null object\n",
      "dtypes: float64(2), int64(5), object(5)\n",
      "memory usage: 2.0+ MB\n",
      "    children  days_employed  dob_years            education  education_id  \\\n",
      "0          1   -8437.673028         42               высшее             0   \n",
      "1          1   -4024.803754         36              среднее             1   \n",
      "2          0   -5623.422610         33              Среднее             1   \n",
      "3          3   -4124.747207         32              среднее             1   \n",
      "4          0  340266.072047         53              среднее             1   \n",
      "5          0    -926.185831         27               высшее             0   \n",
      "6          0   -2879.202052         43               высшее             0   \n",
      "7          0    -152.779569         50              СРЕДНЕЕ             1   \n",
      "8          2   -6929.865299         35               ВЫСШЕЕ             0   \n",
      "9          0   -2188.756445         41              среднее             1   \n",
      "10         2   -4171.483647         36               высшее             0   \n",
      "11         0    -792.701887         40              среднее             1   \n",
      "12         0            NaN         65              среднее             1   \n",
      "13         0   -1846.641941         54  неоконченное высшее             2   \n",
      "14         0   -1844.956182         56               высшее             0   \n",
      "15         1    -972.364419         26              среднее             1   \n",
      "16         0   -1719.934226         35              среднее             1   \n",
      "17         0   -2369.999720         33               высшее             0   \n",
      "18         0  400281.136913         53              среднее             1   \n",
      "19         0  -10038.818549         48              СРЕДНЕЕ             1   \n",
      "\n",
      "       family_status  family_status_id gender income_type  debt  \\\n",
      "0    женат / замужем                 0      F   сотрудник     0   \n",
      "1    женат / замужем                 0      F   сотрудник     0   \n",
      "2    женат / замужем                 0      M   сотрудник     0   \n",
      "3    женат / замужем                 0      M   сотрудник     0   \n",
      "4   гражданский брак                 1      F   пенсионер     0   \n",
      "5   гражданский брак                 1      M   компаньон     0   \n",
      "6    женат / замужем                 0      F   компаньон     0   \n",
      "7    женат / замужем                 0      M   сотрудник     0   \n",
      "8   гражданский брак                 1      F   сотрудник     0   \n",
      "9    женат / замужем                 0      M   сотрудник     0   \n",
      "10   женат / замужем                 0      M   компаньон     0   \n",
      "11   женат / замужем                 0      F   сотрудник     0   \n",
      "12  гражданский брак                 1      M   пенсионер     0   \n",
      "13   женат / замужем                 0      F   сотрудник     0   \n",
      "14  гражданский брак                 1      F   компаньон     1   \n",
      "15   женат / замужем                 0      F   сотрудник     0   \n",
      "16   женат / замужем                 0      F   сотрудник     0   \n",
      "17  гражданский брак                 1      M   сотрудник     0   \n",
      "18    вдовец / вдова                 2      F   пенсионер     0   \n",
      "19         в разводе                 3      F   сотрудник     0   \n",
      "\n",
      "     total_income                                 purpose  \n",
      "0   253875.639453                           покупка жилья  \n",
      "1   112080.014102                 приобретение автомобиля  \n",
      "2   145885.952297                           покупка жилья  \n",
      "3   267628.550329              дополнительное образование  \n",
      "4   158616.077870                         сыграть свадьбу  \n",
      "5   255763.565419                           покупка жилья  \n",
      "6   240525.971920                       операции с жильем  \n",
      "7   135823.934197                             образование  \n",
      "8    95856.832424                   на проведение свадьбы  \n",
      "9   144425.938277                 покупка жилья для семьи  \n",
      "10  113943.491460                    покупка недвижимости  \n",
      "11   77069.234271       покупка коммерческой недвижимости  \n",
      "12            NaN                         сыграть свадьбу  \n",
      "13  130458.228857                 приобретение автомобиля  \n",
      "14  165127.911772              покупка жилой недвижимости  \n",
      "15  116820.904450  строительство собственной недвижимости  \n",
      "16  289202.704229                            недвижимость  \n",
      "17   90410.586745              строительство недвижимости  \n",
      "18   56823.777243      на покупку подержанного автомобиля  \n",
      "19  242831.107982            на покупку своего автомобиля  \n"
     ]
    }
   ],
   "source": [
    "import pandas as pd\n",
    "data=pd.read_csv('/datasets/data.csv')\n",
    "data.info()\n",
    "print(data.head(20))"
   ]
  },
  {
   "cell_type": "markdown",
   "metadata": {},
   "source": [
    "### Вывод"
   ]
  },
  {
   "cell_type": "markdown",
   "metadata": {},
   "source": [
    "Всего в датасете 21525 записей. \n",
    "\n",
    "Неполные данные встречаются в столбцах а) об общем трудовом стаже; б) о ежемесячном доходе. Можно предположить, что не заполнены эти поля у одних и тех же людей, т.к. данные относятся к одной сфере, а количество пропусков в обоих столбцах идентично (по 2174), но эту гипотезу мы проверим в дальнейшем. \n",
    "\n",
    "Наибольшее беспокойство вызывает поле общего трудового стажа - данные явно требуют серьезной работы (встречаются отрицательные, дробные и нереалистичные значения).\n",
    "\n",
    "Остальные поля требуют незначительного вмешательства.\n",
    "\n",
    "Также обращает на себя внимание, что пропуски и некачественные данные есть только в столбцах с типом float - возможно, существуют технические ошибки при выгрузке данных этого типа или при работе с ним на стороне банка."
   ]
  },
  {
   "cell_type": "markdown",
   "metadata": {},
   "source": [
    "### Шаг 2. Предобработка данных"
   ]
  },
  {
   "cell_type": "markdown",
   "metadata": {},
   "source": [
    "### Обработка пропусков"
   ]
  },
  {
   "cell_type": "markdown",
   "metadata": {},
   "source": [
    "Сначала проверим, насколько пересекаются пропуски в данных об общем трудовом стаже и доходе."
   ]
  },
  {
   "cell_type": "code",
   "execution_count": 2,
   "metadata": {},
   "outputs": [
    {
     "name": "stdout",
     "output_type": "stream",
     "text": [
      "<class 'pandas.core.frame.DataFrame'>\n",
      "Int64Index: 2174 entries, 12 to 21510\n",
      "Data columns (total 12 columns):\n",
      "children            2174 non-null int64\n",
      "days_employed       0 non-null float64\n",
      "dob_years           2174 non-null int64\n",
      "education           2174 non-null object\n",
      "education_id        2174 non-null int64\n",
      "family_status       2174 non-null object\n",
      "family_status_id    2174 non-null int64\n",
      "gender              2174 non-null object\n",
      "income_type         2174 non-null object\n",
      "debt                2174 non-null int64\n",
      "total_income        0 non-null float64\n",
      "purpose             2174 non-null object\n",
      "dtypes: float64(2), int64(5), object(5)\n",
      "memory usage: 220.8+ KB\n"
     ]
    }
   ],
   "source": [
    "data_grouped=data[(data['days_employed'].isnull())&(data['total_income'].isnull())]\n",
    "data_grouped.info()"
   ]
  },
  {
   "cell_type": "markdown",
   "metadata": {},
   "source": [
    "Как мы и предполагали, пропуски в обоих столбцах всегда идут рука об руку."
   ]
  },
  {
   "cell_type": "markdown",
   "metadata": {},
   "source": [
    "Теперь попробуем установить корреляцию между наличием пропусков и значениями других полей"
   ]
  },
  {
   "cell_type": "code",
   "execution_count": 3,
   "metadata": {},
   "outputs": [
    {
     "name": "stdout",
     "output_type": "stream",
     "text": [
      "1    15233\n",
      "0     5260\n",
      "2      744\n",
      "3      282\n",
      "4        6\n",
      "Name: education_id, dtype: int64\n",
      "1    1540\n",
      "0     544\n",
      "2      69\n",
      "3      21\n",
      "Name: education_id, dtype: int64\n",
      "сотрудник          11119\n",
      "компаньон           5085\n",
      "пенсионер           3856\n",
      "госслужащий         1459\n",
      "безработный            2\n",
      "предприниматель        2\n",
      "в декрете              1\n",
      "студент                1\n",
      "Name: income_type, dtype: int64\n",
      "сотрудник          1105\n",
      "компаньон           508\n",
      "пенсионер           413\n",
      "госслужащий         147\n",
      "предприниматель       1\n",
      "Name: income_type, dtype: int64\n",
      "0    19784\n",
      "1     1741\n",
      "Name: debt, dtype: int64\n",
      "0    2004\n",
      "1     170\n",
      "Name: debt, dtype: int64\n"
     ]
    }
   ],
   "source": [
    "#С какими факторами может коррелировать отсутствие данных о стаже и доходе? Попробуем установить корреляцию с образованием.\n",
    "print(data['education_id'].value_counts())\n",
    "print(data_grouped['education_id'].value_counts())\n",
    "#Существенной корреляции нет. Попробуем установить корреляцию с типом занятости\n",
    "print(data['income_type'].value_counts())\n",
    "print(data_grouped['income_type'].value_counts())\n",
    "#Тоже нет. Есть ли корреляция с наличием долга?\n",
    "print(data['debt'].value_counts())\n",
    "print(data_grouped['debt'].value_counts())\n",
    "#Также нет."
   ]
  },
  {
   "cell_type": "markdown",
   "metadata": {},
   "source": [
    "Судя по всему, пропуски носят полностью случайный характер."
   ]
  },
  {
   "cell_type": "markdown",
   "metadata": {},
   "source": [
    "Переходим к заполнению пропусков."
   ]
  },
  {
   "cell_type": "code",
   "execution_count": 4,
   "metadata": {},
   "outputs": [],
   "source": [
    "#Никаких работ над столбцом с общим трудовым стажем мы пока не проводили, но заполним пропуски медианными значениями - это не должно внести искажений в наши данные\n",
    "avg_days_employed=data['days_employed'].median()\n",
    "data['days_employed']=data['days_employed'].fillna(value=avg_days_employed)\n"
   ]
  },
  {
   "cell_type": "code",
   "execution_count": 5,
   "metadata": {},
   "outputs": [],
   "source": [
    "#Напишем функцию, вычисляющую медианный доход по каждой из категорий занятости и присваивающую этот медианный доход тем представителям категорий, у которых он не указан\n",
    "def set_average_income(income_type):\n",
    "    avg_total_income=data.loc[data.loc[:,'income_type']==income_type]['total_income'].median()\n",
    "    data.loc[(data['income_type'] == income_type)&(data['total_income'].isna()), 'total_income'] = avg_total_income\n",
    "#Применим эту функцию к тем типам занятости, которые встречаются среди записей с пропущенными данными \n",
    "set_average_income('сотрудник')\n",
    "set_average_income('компаньон')\n",
    "set_average_income('пенсионер')\n",
    "set_average_income('госслужащий')\n",
    "set_average_income('предприниматель')\n"
   ]
  },
  {
   "cell_type": "markdown",
   "metadata": {},
   "source": [
    "### Вывод"
   ]
  },
  {
   "cell_type": "markdown",
   "metadata": {},
   "source": [
    "Мы выяснили, что пропуски в данных носят случайный характер, и в случае со столбцом трудового стажа - заполнили их медианными значениями. Скорее всего, это неидеальное решение, но поскольку этот столбец никак не поможет нам в ответе на вопросы, которые составляют цель исследования, не будем тратить на него слишком много времени.\n",
    "\n",
    "В случае с ежемесячным доходом мы вычислили медианный доход по категориям занятости и заполнили отсутствующие значения своей медианой для каждой категории. Поскольку этот столбец понадобится нам в дальнейшем, здесь требуемая точность выше.\n",
    "\n",
    "Причины появления пропусков - либо в непредоставлении документов о занятости, либо в технических недочетах при обработке этих данных."
   ]
  },
  {
   "cell_type": "markdown",
   "metadata": {},
   "source": [
    "### Замена типа данных"
   ]
  },
  {
   "cell_type": "markdown",
   "metadata": {},
   "source": [
    "Столбец общего дохода имеет вещественный тип данных, что не только избыточно для наших целей, но и неверно: значения имют 6 знаков после запятой, а не два. Учитывая, что речь идет о суммах в несколько сотен тысяч рублей, вполне достаточно точности, обеспечиваемой целочисленным типом данных. Проведем замену."
   ]
  },
  {
   "cell_type": "code",
   "execution_count": 6,
   "metadata": {},
   "outputs": [
    {
     "name": "stdout",
     "output_type": "stream",
     "text": [
      "<class 'pandas.core.frame.DataFrame'>\n",
      "RangeIndex: 21525 entries, 0 to 21524\n",
      "Data columns (total 12 columns):\n",
      "children            21525 non-null int64\n",
      "days_employed       21525 non-null float64\n",
      "dob_years           21525 non-null int64\n",
      "education           21525 non-null object\n",
      "education_id        21525 non-null int64\n",
      "family_status       21525 non-null object\n",
      "family_status_id    21525 non-null int64\n",
      "gender              21525 non-null object\n",
      "income_type         21525 non-null object\n",
      "debt                21525 non-null int64\n",
      "total_income        21525 non-null int64\n",
      "purpose             21525 non-null object\n",
      "dtypes: float64(1), int64(6), object(5)\n",
      "memory usage: 2.0+ MB\n"
     ]
    }
   ],
   "source": [
    "data['total_income']=data['total_income'].astype('int')\n",
    "data.info()"
   ]
  },
  {
   "cell_type": "markdown",
   "metadata": {},
   "source": [
    "### Вывод"
   ]
  },
  {
   "cell_type": "markdown",
   "metadata": {},
   "source": [
    "Из столбцов, которые представляют интерес для решения нашей задачи, проблемный тип данных был в одном - ежемесячном доходе. Мы сменили тип данных с вещественного на целочисленный, для наших задач этого достаточно. Вещественный тип данных в столбце \"Общий трудовой стаж в днях\" также очевидно неправилен, но учитывая, что привести этот столбец к полностью нормальному виду имеющимися у нас средствами невозможно, а в наших расчетах он не используется, наиболее оптимально ничего с ним не делать. "
   ]
  },
  {
   "cell_type": "markdown",
   "metadata": {},
   "source": [
    "### Обработка дубликатов"
   ]
  },
  {
   "cell_type": "markdown",
   "metadata": {},
   "source": [
    "Пройдемся по столбцам со строковым типом данных в поисках по-разному написанных дубликатов. Начнем со столбца education "
   ]
  },
  {
   "cell_type": "code",
   "execution_count": 7,
   "metadata": {},
   "outputs": [
    {
     "data": {
      "text/plain": [
       "среднее                13750\n",
       "высшее                  4718\n",
       "СРЕДНЕЕ                  772\n",
       "Среднее                  711\n",
       "неоконченное высшее      668\n",
       "ВЫСШЕЕ                   274\n",
       "Высшее                   268\n",
       "начальное                250\n",
       "Неоконченное высшее       47\n",
       "НЕОКОНЧЕННОЕ ВЫСШЕЕ       29\n",
       "НАЧАЛЬНОЕ                 17\n",
       "Начальное                 15\n",
       "ученая степень             4\n",
       "Ученая степень             1\n",
       "УЧЕНАЯ СТЕПЕНЬ             1\n",
       "Name: education, dtype: int64"
      ]
     },
     "execution_count": 7,
     "metadata": {},
     "output_type": "execute_result"
    }
   ],
   "source": [
    "data['education'].value_counts()"
   ]
  },
  {
   "cell_type": "markdown",
   "metadata": {},
   "source": [
    "Как видим, таких немало. Исправим написание, приведя все значения к нижнему регистру."
   ]
  },
  {
   "cell_type": "code",
   "execution_count": 8,
   "metadata": {},
   "outputs": [
    {
     "data": {
      "text/plain": [
       "среднее                15233\n",
       "высшее                  5260\n",
       "неоконченное высшее      744\n",
       "начальное                282\n",
       "ученая степень             6\n",
       "Name: education, dtype: int64"
      ]
     },
     "execution_count": 8,
     "metadata": {},
     "output_type": "execute_result"
    }
   ],
   "source": [
    "data['education']=data['education'].str.lower()\n",
    "data['education'].value_counts()"
   ]
  },
  {
   "cell_type": "markdown",
   "metadata": {},
   "source": [
    "Надо убедиться, что написание в разных регистрах не повлияло на соотнесение значений в столбцах education и education_id. \n",
    "\n",
    "В норме среднему образованию должен соответствовать education_id 1. Посмотрим, всегда ли это так."
   ]
  },
  {
   "cell_type": "code",
   "execution_count": 9,
   "metadata": {},
   "outputs": [
    {
     "name": "stdout",
     "output_type": "stream",
     "text": [
      "Empty DataFrame\n",
      "Columns: [children, days_employed, dob_years, education, education_id, family_status, family_status_id, gender, income_type, debt, total_income, purpose]\n",
      "Index: []\n"
     ]
    }
   ],
   "source": [
    "data_education_middle=data[(data['education']=='среднее')&(data['education_id']!=1)]\n",
    "print(data_education_middle)"
   ]
  },
  {
   "cell_type": "markdown",
   "metadata": {},
   "source": [
    "Неправильно обработанных значений нет. Повторим то же самое для других типов образования."
   ]
  },
  {
   "cell_type": "code",
   "execution_count": 10,
   "metadata": {},
   "outputs": [
    {
     "name": "stdout",
     "output_type": "stream",
     "text": [
      "Empty DataFrame\n",
      "Columns: [children, days_employed, dob_years, education, education_id, family_status, family_status_id, gender, income_type, debt, total_income, purpose]\n",
      "Index: []\n",
      "Empty DataFrame\n",
      "Columns: [children, days_employed, dob_years, education, education_id, family_status, family_status_id, gender, income_type, debt, total_income, purpose]\n",
      "Index: []\n",
      "Empty DataFrame\n",
      "Columns: [children, days_employed, dob_years, education, education_id, family_status, family_status_id, gender, income_type, debt, total_income, purpose]\n",
      "Index: []\n",
      "Empty DataFrame\n",
      "Columns: [children, days_employed, dob_years, education, education_id, family_status, family_status_id, gender, income_type, debt, total_income, purpose]\n",
      "Index: []\n"
     ]
    }
   ],
   "source": [
    "data_education_higher=data[(data['education']=='высшее')&(data['education_id']!=0)]\n",
    "print(data_education_higher)\n",
    "data_education_higher_unfinished=data[(data['education']=='неоконченное высшее')&(data['education_id']!=2)]\n",
    "print(data_education_higher_unfinished)\n",
    "data_education_low=data[(data['education']=='начальное')&(data['education_id']!=3)]\n",
    "print(data_education_low)\n",
    "data_education_phd=data[(data['education']=='ученая степень')&(data['education_id']!=4)]\n",
    "print(data_education_phd)"
   ]
  },
  {
   "cell_type": "markdown",
   "metadata": {},
   "source": [
    "С остальными значениями тоже все нормально. Перейдем к графе family_status"
   ]
  },
  {
   "cell_type": "code",
   "execution_count": 11,
   "metadata": {},
   "outputs": [
    {
     "data": {
      "text/plain": [
       "женат / замужем          12380\n",
       "гражданский брак          4177\n",
       "Не женат / не замужем     2813\n",
       "в разводе                 1195\n",
       "вдовец / вдова             960\n",
       "Name: family_status, dtype: int64"
      ]
     },
     "execution_count": 11,
     "metadata": {},
     "output_type": "execute_result"
    }
   ],
   "source": [
    "data['family_status'].value_counts()"
   ]
  },
  {
   "cell_type": "markdown",
   "metadata": {},
   "source": [
    "Здесь дубликатов нет. Переходим к столбцу gender."
   ]
  },
  {
   "cell_type": "code",
   "execution_count": 12,
   "metadata": {},
   "outputs": [
    {
     "data": {
      "text/plain": [
       "F      14236\n",
       "M       7288\n",
       "XNA        1\n",
       "Name: gender, dtype: int64"
      ]
     },
     "execution_count": 12,
     "metadata": {},
     "output_type": "execute_result"
    }
   ],
   "source": [
    "data['gender'].value_counts()"
   ]
  },
  {
   "cell_type": "markdown",
   "metadata": {},
   "source": [
    "Здесь дубликатов тоже нет, но есть одно ошибочное значение XNA. Посмотрим, есть ли еще что-то необычное в строке, содержащей это значение."
   ]
  },
  {
   "cell_type": "code",
   "execution_count": 13,
   "metadata": {},
   "outputs": [
    {
     "name": "stdout",
     "output_type": "stream",
     "text": [
      "       children  days_employed  dob_years            education  education_id  \\\n",
      "10701         0   -2358.600502         24  неоконченное высшее             2   \n",
      "\n",
      "          family_status  family_status_id gender income_type  debt  \\\n",
      "10701  гражданский брак                 1    XNA   компаньон     0   \n",
      "\n",
      "       total_income               purpose  \n",
      "10701        203905  покупка недвижимости  \n"
     ]
    }
   ],
   "source": [
    "print(data[data['gender']=='XNA'])"
   ]
  },
  {
   "cell_type": "markdown",
   "metadata": {},
   "source": [
    "Исходя из имеющихся данных и того, что женщин в выборке почти в 2 раза больше, чем мужчин, предположим, что это женщина."
   ]
  },
  {
   "cell_type": "code",
   "execution_count": 14,
   "metadata": {},
   "outputs": [
    {
     "data": {
      "text/plain": [
       "F    14237\n",
       "M     7288\n",
       "Name: gender, dtype: int64"
      ]
     },
     "execution_count": 14,
     "metadata": {},
     "output_type": "execute_result"
    }
   ],
   "source": [
    "data.loc[data['gender']=='XNA', 'gender'] = 'F'\n",
    "data['gender'].value_counts()"
   ]
  },
  {
   "cell_type": "markdown",
   "metadata": {},
   "source": [
    "Столбец income_type мы уже просматривали выше, там дубликатов нет. В столбце purpose данные не унифицированы, к нему мы перейдем позже. Осталось найти полные дубликаты строк и удалить их."
   ]
  },
  {
   "cell_type": "code",
   "execution_count": 15,
   "metadata": {},
   "outputs": [
    {
     "name": "stdout",
     "output_type": "stream",
     "text": [
      "<class 'pandas.core.frame.DataFrame'>\n",
      "RangeIndex: 21454 entries, 0 to 21453\n",
      "Data columns (total 12 columns):\n",
      "children            21454 non-null int64\n",
      "days_employed       21454 non-null float64\n",
      "dob_years           21454 non-null int64\n",
      "education           21454 non-null object\n",
      "education_id        21454 non-null int64\n",
      "family_status       21454 non-null object\n",
      "family_status_id    21454 non-null int64\n",
      "gender              21454 non-null object\n",
      "income_type         21454 non-null object\n",
      "debt                21454 non-null int64\n",
      "total_income        21454 non-null int64\n",
      "purpose             21454 non-null object\n",
      "dtypes: float64(1), int64(6), object(5)\n",
      "memory usage: 2.0+ MB\n"
     ]
    }
   ],
   "source": [
    "data = data.drop_duplicates().reset_index(drop=True)\n",
    "data.info()"
   ]
  },
  {
   "cell_type": "markdown",
   "metadata": {},
   "source": [
    "Мы удалили 71 дублирующуюся строку. Поскольку набор данных в строке достаточно подробный и включает в себя такие индивидуальные характеристики, как рабочий стаж, возраст и доход, полностью идентичные строки с очень большой вероятностью действительно являются дублями - вероятность, что эти записи принадлежат разным людям, крайне низка."
   ]
  },
  {
   "cell_type": "markdown",
   "metadata": {},
   "source": [
    "### Вывод"
   ]
  },
  {
   "cell_type": "markdown",
   "metadata": {},
   "source": [
    "Мы избавились от дубликатов, связанных с разным написанием категорий образования, а также от полностью дублирующихся строк. Появление вторых скорее всего связано с повторым внесением в систему одних и тех же заявок. Также убедились, что в других категориях дубликатов нет."
   ]
  },
  {
   "cell_type": "markdown",
   "metadata": {},
   "source": [
    "### Лемматизация"
   ]
  },
  {
   "cell_type": "markdown",
   "metadata": {},
   "source": [
    "Перейдем к столбцу purpose. Он нужен нам для ответа на один из стоящих перед нами вопросов, но данные в нем не унифицированы: ответы заполнялись в свободной форме. Поэтому проведем лемматизацию."
   ]
  },
  {
   "cell_type": "code",
   "execution_count": 16,
   "metadata": {},
   "outputs": [],
   "source": [
    "from pymystem3 import Mystem\n",
    "m = Mystem()\n",
    "data['purpose_lemmas']=data['purpose'].apply(m.lemmatize)"
   ]
  },
  {
   "cell_type": "markdown",
   "metadata": {},
   "source": [
    "### Вывод"
   ]
  },
  {
   "cell_type": "markdown",
   "metadata": {},
   "source": [
    "Мы лемматизировали данные в столбце purpose с исвпользованием библиотеки pymystem3 и сохранили полученные леммы в отдельный столбец purpose_lemmas. Это позволит нам работать с данными по целям взятия кредита, начнем это делать мы на следующем шаге."
   ]
  },
  {
   "cell_type": "markdown",
   "metadata": {},
   "source": [
    "### Категоризация данных"
   ]
  },
  {
   "cell_type": "markdown",
   "metadata": {},
   "source": [
    "Из интересующих нас столбцов с данными один - семейное положение - не требует дополнительных операций. Уровень дохода и причина взятия кредита требуют категоризации. Также надо изучить стоблец количества детей на предмет качества данных.\n"
   ]
  },
  {
   "cell_type": "markdown",
   "metadata": {},
   "source": [
    "Посмотрим, какие значения есть в столбце количества детей."
   ]
  },
  {
   "cell_type": "code",
   "execution_count": 17,
   "metadata": {},
   "outputs": [
    {
     "data": {
      "text/plain": [
       " 0     14091\n",
       " 1      4808\n",
       " 2      2052\n",
       " 3       330\n",
       " 20       76\n",
       "-1        47\n",
       " 4        41\n",
       " 5         9\n",
       "Name: children, dtype: int64"
      ]
     },
     "execution_count": 17,
     "metadata": {},
     "output_type": "execute_result"
    }
   ],
   "source": [
    "data['children'].value_counts()"
   ]
  },
  {
   "cell_type": "markdown",
   "metadata": {},
   "source": [
    "У 47 человек есть -1 ребенок, а у 76-и - 20. Учитывая, что ни у одного человека нет ни 19, ни 18 детей, вероятно, перед нами ошибка. Вряд ли мы сможем установить верное число детей для каждой из ошибочных записей, но в данном случае наша задача - отнести эти записи к одной из двух категорий: \"есть дети\" или \"нет детей\". Посмотрим на усредненные характеристики каждой из этих групп, чтобы понять, к какой из них ближе записи с неверными значениями. Выберем две ключевые связанные с этим характеристики - возраст и семейное положение. Начнем с тех, у кого нет детей."
   ]
  },
  {
   "cell_type": "code",
   "execution_count": 18,
   "metadata": {},
   "outputs": [
    {
     "name": "stdout",
     "output_type": "stream",
     "text": [
      "48.0\n",
      "женат / замужем          7468\n",
      "гражданский брак         2730\n",
      "Не женат / не замужем    2262\n",
      "вдовец / вдова            847\n",
      "в разводе                 784\n",
      "Name: family_status, dtype: int64\n"
     ]
    }
   ],
   "source": [
    "data_no_children=data[data['children']==0]\n",
    "print(data_no_children['dob_years'].median())\n",
    "print(data_no_children['family_status'].value_counts())"
   ]
  },
  {
   "cell_type": "markdown",
   "metadata": {},
   "source": [
    "Теперь посмотрим на тех, у кого дети есть."
   ]
  },
  {
   "cell_type": "code",
   "execution_count": 19,
   "metadata": {},
   "outputs": [
    {
     "name": "stdout",
     "output_type": "stream",
     "text": [
      "37.0\n",
      "женат / замужем          4871\n",
      "гражданский брак         1421\n",
      "Не женат / не замужем     548\n",
      "в разводе                 411\n",
      "вдовец / вдова            112\n",
      "Name: family_status, dtype: int64\n"
     ]
    }
   ],
   "source": [
    "data_children=data[data['children']!=0]\n",
    "print(data_children['dob_years'].median())\n",
    "print(data_children['family_status'].value_counts())"
   ]
  },
  {
   "cell_type": "markdown",
   "metadata": {},
   "source": [
    "Как видим, те, у кого есть дети, в среднем моложе и чаще состоят в браке. Теперь посмотрим на тех, у кого -1 ребенок, чтобы понять, на какую из групп они больше похожи."
   ]
  },
  {
   "cell_type": "code",
   "execution_count": 20,
   "metadata": {},
   "outputs": [
    {
     "name": "stdout",
     "output_type": "stream",
     "text": [
      "41.0\n",
      "женат / замужем          29\n",
      "гражданский брак          5\n",
      "Не женат / не замужем     5\n",
      "в разводе                 4\n",
      "вдовец / вдова            4\n",
      "Name: family_status, dtype: int64\n"
     ]
    }
   ],
   "source": [
    "data_error_1=data[data['children']==-1]\n",
    "print(data_error_1['dob_years'].median())\n",
    "print(data_error_1['family_status'].value_counts())"
   ]
  },
  {
   "cell_type": "markdown",
   "metadata": {},
   "source": [
    "Значения ближе к тем, у кого есть дети. Теперь посмотрим на тех, у кого 20 детей."
   ]
  },
  {
   "cell_type": "code",
   "execution_count": 21,
   "metadata": {},
   "outputs": [
    {
     "name": "stdout",
     "output_type": "stream",
     "text": [
      "41.5\n",
      "женат / замужем          49\n",
      "гражданский брак         12\n",
      "Не женат / не замужем     9\n",
      "вдовец / вдова            4\n",
      "в разводе                 2\n",
      "Name: family_status, dtype: int64\n"
     ]
    }
   ],
   "source": [
    "data_error_20=data[data['children']==20]\n",
    "print(data_error_20['dob_years'].median())\n",
    "print(data_error_20['family_status'].value_counts())"
   ]
  },
  {
   "cell_type": "markdown",
   "metadata": {},
   "source": [
    "Они по своим характеристикам также ближе к тем, у кого есть дети. Будем считать, что обе категории на самом деле имеют детей, их точное количество в данном случае для нас неважно. "
   ]
  },
  {
   "cell_type": "markdown",
   "metadata": {},
   "source": [
    "Теперь перейдем к категоризации столбца total_income. Сначала изучим разброс значений."
   ]
  },
  {
   "cell_type": "code",
   "execution_count": 22,
   "metadata": {},
   "outputs": [
    {
     "name": "stdout",
     "output_type": "stream",
     "text": [
      "Минимальный доход: 20667\n",
      "Максимальный доход: 2265604\n",
      "Медианный доход: 142594.0\n"
     ]
    }
   ],
   "source": [
    "print('Минимальный доход:',data['total_income'].min())\n",
    "print('Максимальный доход:',data['total_income'].max())\n",
    "print('Медианный доход:',data['total_income'].median())"
   ]
  },
  {
   "cell_type": "markdown",
   "metadata": {},
   "source": [
    "Как видим, разброс весьма велик. Попробуем посчитать количество значений вокруг нашей медины. Сколько людей имеет доход от 100 до 200 тыс. рублей в месяц?"
   ]
  },
  {
   "cell_type": "code",
   "execution_count": 23,
   "metadata": {},
   "outputs": [
    {
     "name": "stdout",
     "output_type": "stream",
     "text": [
      "Людей с доходом менее 100 тыс. рублей: 4463\n",
      "Людей с доходом от 100 до 200 тыс. рублей: 11924\n",
      "Людей с доходом более 200 тыс. рублей: 5067\n"
     ]
    }
   ],
   "source": [
    "data_average=data[(data['total_income']>=100000)&(data['total_income']<=200000)]['total_income']\n",
    "data_min=data[(data['total_income']<100000)]['total_income']\n",
    "data_max=data[(data['total_income']>200000)]['total_income']\n",
    "print('Людей с доходом менее 100 тыс. рублей:',data_min.count())\n",
    "print('Людей с доходом от 100 до 200 тыс. рублей:',data_average.count())\n",
    "print('Людей с доходом более 200 тыс. рублей:',data_max.count())"
   ]
  },
  {
   "cell_type": "markdown",
   "metadata": {},
   "source": [
    "Как видим, распределение похоже на нормальное. Выделим на основании этого деления четыре типа доходов - низкие, средне-низкие, средне-высокие и высокие - и запишем тип дохода для каждой строки в отдельный столбец."
   ]
  },
  {
   "cell_type": "code",
   "execution_count": 24,
   "metadata": {},
   "outputs": [
    {
     "name": "stdout",
     "output_type": "stream",
     "text": [
      "   children  days_employed  dob_years education  education_id  \\\n",
      "0         1   -8437.673028         42    высшее             0   \n",
      "1         1   -4024.803754         36   среднее             1   \n",
      "2         0   -5623.422610         33   среднее             1   \n",
      "3         3   -4124.747207         32   среднее             1   \n",
      "4         0  340266.072047         53   среднее             1   \n",
      "5         0    -926.185831         27    высшее             0   \n",
      "6         0   -2879.202052         43    высшее             0   \n",
      "7         0    -152.779569         50   среднее             1   \n",
      "8         2   -6929.865299         35    высшее             0   \n",
      "9         0   -2188.756445         41   среднее             1   \n",
      "\n",
      "      family_status  family_status_id gender income_type  debt  total_income  \\\n",
      "0   женат / замужем                 0      F   сотрудник     0        253875   \n",
      "1   женат / замужем                 0      F   сотрудник     0        112080   \n",
      "2   женат / замужем                 0      M   сотрудник     0        145885   \n",
      "3   женат / замужем                 0      M   сотрудник     0        267628   \n",
      "4  гражданский брак                 1      F   пенсионер     0        158616   \n",
      "5  гражданский брак                 1      M   компаньон     0        255763   \n",
      "6   женат / замужем                 0      F   компаньон     0        240525   \n",
      "7   женат / замужем                 0      M   сотрудник     0        135823   \n",
      "8  гражданский брак                 1      F   сотрудник     0         95856   \n",
      "9   женат / замужем                 0      M   сотрудник     0        144425   \n",
      "\n",
      "                      purpose                             purpose_lemmas  \\\n",
      "0               покупка жилья                    [покупка,  , жилье, \\n]   \n",
      "1     приобретение автомобиля          [приобретение,  , автомобиль, \\n]   \n",
      "2               покупка жилья                    [покупка,  , жилье, \\n]   \n",
      "3  дополнительное образование       [дополнительный,  , образование, \\n]   \n",
      "4             сыграть свадьбу                  [сыграть,  , свадьба, \\n]   \n",
      "5               покупка жилья                    [покупка,  , жилье, \\n]   \n",
      "6           операции с жильем             [операция,  , с,  , жилье, \\n]   \n",
      "7                 образование                          [образование, \\n]   \n",
      "8       на проведение свадьбы        [на,  , проведение,  , свадьба, \\n]   \n",
      "9     покупка жилья для семьи  [покупка,  , жилье,  , для,  , семья, \\n]   \n",
      "\n",
      "  total_income_type  \n",
      "0           высокий  \n",
      "1     средне-низкий  \n",
      "2     средне-низкий  \n",
      "3           высокий  \n",
      "4    средне-высокий  \n",
      "5           высокий  \n",
      "6           высокий  \n",
      "7     средне-низкий  \n",
      "8            низкий  \n",
      "9     средне-низкий  \n"
     ]
    }
   ],
   "source": [
    "#Пишем функцию, возвращающую тип дохода\n",
    "def income_category(income):\n",
    "    try:\n",
    "        if 0<income<100000:\n",
    "            return 'низкий'\n",
    "        elif 100000<=income<=150000:\n",
    "            return 'средне-низкий'\n",
    "        elif 150000<income<=200000:\n",
    "            return 'средне-высокий'\n",
    "        if income>200000:\n",
    "            return 'высокий'\n",
    "    except:\n",
    "        return 'ошибка'\n",
    "\n",
    "#Применяем функцию к столбцу total_income и записываем результат в новый столбец total_income_id\n",
    "data['total_income_type']=data['total_income'].apply(income_category)\n",
    "#Убеждаемся в том, что функция сработала правильно\n",
    "print(data.head(10))\n"
   ]
  },
  {
   "cell_type": "markdown",
   "metadata": {},
   "source": [
    " Перейдем к целям получения кредита. Дла начала посмотрим, какие варианты и с какой частотой встречаются среди выделенных нами лемм."
   ]
  },
  {
   "cell_type": "code",
   "execution_count": 25,
   "metadata": {},
   "outputs": [
    {
     "name": "stdout",
     "output_type": "stream",
     "text": [
      "Counter({' ': 33570, '\\n': 21454, 'недвижимость': 6351, 'покупка': 5897, 'жилье': 4460, 'автомобиль': 4306, 'образование': 4013, 'с': 2918, 'операция': 2604, 'свадьба': 2324, 'свой': 2230, 'на': 2222, 'строительство': 1878, 'высокий': 1374, 'получение': 1314, 'коммерческий': 1311, 'для': 1289, 'жилой': 1230, 'сделка': 941, 'дополнительный': 906, 'заниматься': 904, 'проведение': 768, 'сыграть': 765, 'сдача': 651, 'семья': 638, 'собственный': 635, 'со': 627, 'ремонт': 607, 'подержанный': 486, 'подержать': 478, 'приобретение': 461, 'профильный': 436})\n"
     ]
    }
   ],
   "source": [
    "from collections import Counter\n",
    "print(Counter(data['purpose_lemmas'].sum()))"
   ]
  },
  {
   "cell_type": "markdown",
   "metadata": {},
   "source": [
    "Попробуем рассортировать значимые для нас леммы по категориям. Например, \"жилье\" и \"недвижимость\" отнесем в одну категорию, если только вместе со словом \"недвижимость\" не соседствует слово \"коммерческий\" - предполагаем, что по умолчанию под недвижимостью люди имеют в виду именно жилую."
   ]
  },
  {
   "cell_type": "code",
   "execution_count": 26,
   "metadata": {},
   "outputs": [
    {
     "name": "stdout",
     "output_type": "stream",
     "text": [
      "жилье                        9500\n",
      "автомобиль                   4306\n",
      "образование                  4013\n",
      "свадьба                      2324\n",
      "коммерческая недвижимость    1311\n",
      "Name: purpose_type, dtype: int64\n",
      "Всего записей:  21454\n"
     ]
    }
   ],
   "source": [
    "#Пишем функцию, выделяющую категории\n",
    "def lemma_category(category):\n",
    "        if 'жилье' in category:\n",
    "            return 'жилье'\n",
    "        elif ('коммерческий' in category) & ('недвижимость' in category):\n",
    "            return 'коммерческая недвижимость'\n",
    "        elif ('недвижимость' in category) & ('коммерческий' not in category):\n",
    "            return 'жилье'\n",
    "        elif 'свадьба'in category:\n",
    "            return 'свадьба'\n",
    "        elif 'ремонт' in category:\n",
    "            return 'ремонт'\n",
    "        elif 'образование' in category:\n",
    "            return 'образование'\n",
    "        elif 'автомобиль' in category:\n",
    "            return 'автомобиль'\n",
    "\n",
    "    \n",
    "#Применим функцию к нашим данным, результаты запишем в новый столбец purpose_type\n",
    "data['purpose_type']=data['purpose_lemmas'].apply(lemma_category)\n",
    "#Подсчитаем, сколько записей каждой категории было создано:\n",
    "print(data['purpose_type'].value_counts())\n",
    "#Посмотрим, остались ли записи, не вошедшие ни в одну категорию:\n",
    "print('Всего записей: ',data['purpose_type'].value_counts().sum())\n",
    "\n",
    "        "
   ]
  },
  {
   "cell_type": "markdown",
   "metadata": {},
   "source": [
    "Как видим, нам повезло и записей, не вошедших ни в одну из этих категорий, нет. "
   ]
  },
  {
   "cell_type": "markdown",
   "metadata": {},
   "source": [
    "В данных есть две пары столбцов, которые фактически дублируют друг друга: это education и education_id, а также family_status и fimily_status_id. Мы можем выделить текстовые значения в отдельные словари, а в общей таблице оставить только численные. Это позволит уменьшить размер и улучшить читаемость основного набора данных."
   ]
  },
  {
   "cell_type": "code",
   "execution_count": 27,
   "metadata": {},
   "outputs": [
    {
     "name": "stdout",
     "output_type": "stream",
     "text": [
      "             education  education_id\n",
      "0               высшее             0\n",
      "1              среднее             1\n",
      "2  неоконченное высшее             2\n",
      "3            начальное             3\n",
      "4       ученая степень             4\n"
     ]
    }
   ],
   "source": [
    "#Начнем с образования\n",
    "education_dictionary=data[['education','education_id']]\n",
    "#Удалим в словаре дубликаты, оставим только уникальные значения\n",
    "education_dictionary=education_dictionary.drop_duplicates().reset_index(drop=True)\n",
    "#Посмотрим, что получилось\n",
    "print(education_dictionary)"
   ]
  },
  {
   "cell_type": "code",
   "execution_count": 28,
   "metadata": {},
   "outputs": [
    {
     "name": "stdout",
     "output_type": "stream",
     "text": [
      "           family_status  family_status_id\n",
      "0        женат / замужем                 0\n",
      "1       гражданский брак                 1\n",
      "2         вдовец / вдова                 2\n",
      "3              в разводе                 3\n",
      "4  Не женат / не замужем                 4\n"
     ]
    }
   ],
   "source": [
    "#Все верно. Переходим к семейному положению\n",
    "family_status_dictionary=data[['family_status','family_status_id']]\n",
    "#Удаляем дубликаты\n",
    "family_status_dictionary=family_status_dictionary.drop_duplicates().reset_index(drop=True)\n",
    "#Смотрим, что получилось\n",
    "print(family_status_dictionary)"
   ]
  },
  {
   "cell_type": "code",
   "execution_count": 29,
   "metadata": {},
   "outputs": [
    {
     "name": "stdout",
     "output_type": "stream",
     "text": [
      "   children  days_employed  dob_years  education_id  family_status_id gender  \\\n",
      "0         1   -8437.673028         42             0                 0      F   \n",
      "1         1   -4024.803754         36             1                 0      F   \n",
      "2         0   -5623.422610         33             1                 0      M   \n",
      "3         3   -4124.747207         32             1                 0      M   \n",
      "4         0  340266.072047         53             1                 1      F   \n",
      "5         0    -926.185831         27             0                 1      M   \n",
      "6         0   -2879.202052         43             0                 0      F   \n",
      "7         0    -152.779569         50             1                 0      M   \n",
      "8         2   -6929.865299         35             0                 1      F   \n",
      "9         0   -2188.756445         41             1                 0      M   \n",
      "\n",
      "  income_type  debt  total_income total_income_type  \\\n",
      "0   сотрудник     0        253875           высокий   \n",
      "1   сотрудник     0        112080     средне-низкий   \n",
      "2   сотрудник     0        145885     средне-низкий   \n",
      "3   сотрудник     0        267628           высокий   \n",
      "4   пенсионер     0        158616    средне-высокий   \n",
      "5   компаньон     0        255763           высокий   \n",
      "6   компаньон     0        240525           высокий   \n",
      "7   сотрудник     0        135823     средне-низкий   \n",
      "8   сотрудник     0         95856            низкий   \n",
      "9   сотрудник     0        144425     средне-низкий   \n",
      "\n",
      "                      purpose                             purpose_lemmas  \\\n",
      "0               покупка жилья                    [покупка,  , жилье, \\n]   \n",
      "1     приобретение автомобиля          [приобретение,  , автомобиль, \\n]   \n",
      "2               покупка жилья                    [покупка,  , жилье, \\n]   \n",
      "3  дополнительное образование       [дополнительный,  , образование, \\n]   \n",
      "4             сыграть свадьбу                  [сыграть,  , свадьба, \\n]   \n",
      "5               покупка жилья                    [покупка,  , жилье, \\n]   \n",
      "6           операции с жильем             [операция,  , с,  , жилье, \\n]   \n",
      "7                 образование                          [образование, \\n]   \n",
      "8       на проведение свадьбы        [на,  , проведение,  , свадьба, \\n]   \n",
      "9     покупка жилья для семьи  [покупка,  , жилье,  , для,  , семья, \\n]   \n",
      "\n",
      "  purpose_type  \n",
      "0        жилье  \n",
      "1   автомобиль  \n",
      "2        жилье  \n",
      "3  образование  \n",
      "4      свадьба  \n",
      "5        жилье  \n",
      "6        жилье  \n",
      "7  образование  \n",
      "8      свадьба  \n",
      "9        жилье  \n"
     ]
    }
   ],
   "source": [
    "#Последний этап - сохраняем набор данных уже без лишних столбцов\n",
    "data=data[['children','days_employed','dob_years','education_id','family_status_id','gender','income_type','debt','total_income','total_income_type','purpose','purpose_lemmas','purpose_type']]\n",
    "print(data.head(10))"
   ]
  },
  {
   "cell_type": "markdown",
   "metadata": {},
   "source": [
    "### Вывод"
   ]
  },
  {
   "cell_type": "markdown",
   "metadata": {},
   "source": [
    "Мы категоризировали данные в интересующих нас столбцах, касающихся цели получения кредита и уровня дохода, что позволит нам удобно работать с этими данными в будущем. Также дублирующиеся столбцы были убраны во внешние словари. Кроме того, мы пришли к выводу о том, как категоризировать ошибочгые данные в столбце количества детей."
   ]
  },
  {
   "cell_type": "markdown",
   "metadata": {},
   "source": [
    "### Шаг 3. Ответы на вопросы"
   ]
  },
  {
   "cell_type": "markdown",
   "metadata": {},
   "source": [
    "- Есть ли зависимость между наличием детей и возвратом кредита в срок?"
   ]
  },
  {
   "cell_type": "markdown",
   "metadata": {},
   "source": [
    "Разделим записи на две группы - \"есть дети\" и \"нет детей\" - и посчитаем процент имеющих задолженность для каждой из них. Начнем с тех, у кого дети есть."
   ]
  },
  {
   "cell_type": "code",
   "execution_count": 30,
   "metadata": {},
   "outputs": [
    {
     "name": "stdout",
     "output_type": "stream",
     "text": [
      "Задолженность есть у 9.2% людей с детьми\n"
     ]
    }
   ],
   "source": [
    "#Как мы выяснили выше, записи с ошибочным количеством детей логично отнести к группе \"есть дети\"/\n",
    "data_have_children=data[data['children']!=0]['debt']\n",
    "#Делим количество имеющих задолженность людей с детьми на общее количество людей с детьми\n",
    "have_children_have_debt=data_have_children.sum()/len(data_have_children)\n",
    "#Посмотрим, что получилось\n",
    "print('Задолженность есть у {:.1%} людей с детьми'.format(have_children_have_debt))"
   ]
  },
  {
   "cell_type": "markdown",
   "metadata": {},
   "source": [
    "Теперь все то же самое для людей, у которых детей нет."
   ]
  },
  {
   "cell_type": "code",
   "execution_count": 31,
   "metadata": {},
   "outputs": [
    {
     "name": "stdout",
     "output_type": "stream",
     "text": [
      "Задолженность есть у 7.5% людей без детей\n"
     ]
    }
   ],
   "source": [
    "data_no_children=data[data['children']==0]['debt']\n",
    "no_children_have_debt=data_no_children.sum()/len(data_no_children)\n",
    "print('Задолженность есть у {:.1%} людей без детей'.format(no_children_have_debt))"
   ]
  },
  {
   "cell_type": "markdown",
   "metadata": {},
   "source": [
    "#### Вывод"
   ]
  },
  {
   "cell_type": "markdown",
   "metadata": {},
   "source": [
    "Люди, у которых нет детей, с большей вероятностью вернут кредит в срок. Вероятно, наличие детей заставляет семьи брать кредиты без трезвой оценки своих финансовых возможностей."
   ]
  },
  {
   "cell_type": "markdown",
   "metadata": {},
   "source": [
    "- Есть ли зависимость между семейным положением и возвратом кредита в срок?"
   ]
  },
  {
   "cell_type": "markdown",
   "metadata": {},
   "source": [
    "Построим сводную таблицу для разных типов семейного положения и соответствующего им процента наличия задолженности."
   ]
  },
  {
   "cell_type": "code",
   "execution_count": 32,
   "metadata": {},
   "outputs": [
    {
     "name": "stdout",
     "output_type": "stream",
     "text": [
      "      Семейное положение  Процент имеющих задолженность\n",
      "4  Не женат / не замужем                      10.804416\n",
      "1       гражданский брак                      10.310922\n",
      "0        женат / замужем                       8.160940\n",
      "3              в разводе                       7.657658\n",
      "2         вдовец / вдова                       7.031250\n"
     ]
    }
   ],
   "source": [
    "#Построим первичную сводную таблицу из имеющихся данных\n",
    "family_status_pivot = data.pivot_table(index=['family_status_id'], columns='debt', values='gender', aggfunc='count')\n",
    "#Добавим колонку percentage - процент имеющих задолженность по каждой из категорий\n",
    "family_status_pivot['percentage']=family_status_pivot[1]/family_status_pivot[0]*100\n",
    "\n",
    "#Облагородим внешний вид таблицы - добавим внешний словарь и оставим только нужные столбцы\n",
    "family_status_pivot=family_status_pivot.merge(family_status_dictionary, on='family_status_id', how='left')\n",
    "family_status_pivot_final=family_status_pivot[['family_status','percentage']]\n",
    "family_status_pivot_final.set_axis(['Семейное положение','Процент имеющих задолженность'],axis = 'columns',inplace = True)\n",
    "\n",
    "#Посмотрим, что получилось\n",
    "print(family_status_pivot_final.sort_values(by='Процент имеющих задолженность', ascending=False))\n"
   ]
  },
  {
   "cell_type": "code",
   "execution_count": 37,
   "metadata": {},
   "outputs": [
    {
     "data": {
      "text/html": [
       "<div>\n",
       "<style scoped>\n",
       "    .dataframe tbody tr th:only-of-type {\n",
       "        vertical-align: middle;\n",
       "    }\n",
       "\n",
       "    .dataframe tbody tr th {\n",
       "        vertical-align: top;\n",
       "    }\n",
       "\n",
       "    .dataframe thead th {\n",
       "        text-align: right;\n",
       "    }\n",
       "</style>\n",
       "<table border=\"1\" class=\"dataframe\">\n",
       "  <thead>\n",
       "    <tr style=\"text-align: right;\">\n",
       "      <th></th>\n",
       "      <th>Семейное положение</th>\n",
       "      <th>Процент имеющих задолженность</th>\n",
       "    </tr>\n",
       "  </thead>\n",
       "  <tbody>\n",
       "    <tr>\n",
       "      <td>0</td>\n",
       "      <td>женат / замужем</td>\n",
       "      <td>8.16%</td>\n",
       "    </tr>\n",
       "    <tr>\n",
       "      <td>3</td>\n",
       "      <td>в разводе</td>\n",
       "      <td>7.66%</td>\n",
       "    </tr>\n",
       "    <tr>\n",
       "      <td>2</td>\n",
       "      <td>вдовец / вдова</td>\n",
       "      <td>7.03%</td>\n",
       "    </tr>\n",
       "    <tr>\n",
       "      <td>4</td>\n",
       "      <td>Не женат / не замужем</td>\n",
       "      <td>10.80%</td>\n",
       "    </tr>\n",
       "    <tr>\n",
       "      <td>1</td>\n",
       "      <td>гражданский брак</td>\n",
       "      <td>10.31%</td>\n",
       "    </tr>\n",
       "  </tbody>\n",
       "</table>\n",
       "</div>"
      ],
      "text/plain": [
       "      Семейное положение Процент имеющих задолженность\n",
       "0        женат / замужем                         8.16%\n",
       "3              в разводе                         7.66%\n",
       "2         вдовец / вдова                         7.03%\n",
       "4  Не женат / не замужем                        10.80%\n",
       "1       гражданский брак                        10.31%"
      ]
     },
     "execution_count": 37,
     "metadata": {},
     "output_type": "execute_result"
    }
   ],
   "source": [
    "#Построим первичную сводную таблицу из имеющихся данных\n",
    "family_status_pivot = data.pivot_table(index=['family_status_id'], columns='debt', values='gender', aggfunc='count')\n",
    "#Добавим колонку percentage - процент имеющих задолженность по каждой из категорий\n",
    "family_status_pivot['percentage']=family_status_pivot[1]/family_status_pivot[0]\n",
    "family_status_pivot['percentage'] = family_status_pivot['percentage'].map('{:.2%}'.format)\n",
    "#Облагородим внешний вид таблицы - добавим внешний словарь и оставим только нужные столбцы\n",
    "family_status_pivot=family_status_pivot.merge(family_status_dictionary, on='family_status_id', how='left')\n",
    "family_status_pivot_final=family_status_pivot[['family_status','percentage']]\n",
    "family_status_pivot_final.set_axis(['Семейное положение','Процент имеющих задолженность'],axis = 'columns',inplace = True)\n",
    "\n",
    "#Посмотрим, что получилось\n",
    "family_status_pivot_final.sort_values(by='Процент имеющих задолженность', ascending=False)"
   ]
  },
  {
   "cell_type": "markdown",
   "metadata": {},
   "source": [
    "#### Вывод"
   ]
  },
  {
   "cell_type": "markdown",
   "metadata": {},
   "source": [
    "Как видим, наибольший процент имеющих задолженность по кредитам - у неженатых и незамужних, а наименьший - у вдов и вдовцов. Возможно, это связано с тем, что среднестатистическому неженатому незачем брать кредит, а в нашу выборку попали в основном люди, находящиеся в сложной ситуации или начинающие бизнес - это подтверждается небольшим количеством неженатых в нашей выборке в целом."
   ]
  },
  {
   "cell_type": "markdown",
   "metadata": {},
   "source": [
    "- Есть ли зависимость между уровнем дохода и возвратом кредита в срок?"
   ]
  },
  {
   "cell_type": "markdown",
   "metadata": {},
   "source": [
    "Повторим алгоритм из предыдущего шага - построим сводную таблицу для разных типов семейного положения и соответствующего им процента наличия задолженности."
   ]
  },
  {
   "cell_type": "code",
   "execution_count": 33,
   "metadata": {},
   "outputs": [
    {
     "name": "stdout",
     "output_type": "stream",
     "text": [
      "   Уровень дохода  Процент имеющих задолженность\n",
      "3   средне-низкий                       9.547124\n",
      "2  средне-высокий                       9.291122\n",
      "1          низкий                       8.615235\n",
      "0         высокий                       7.602463\n"
     ]
    }
   ],
   "source": [
    "#Построим первичную сводную таблицу из имеющихся данных\n",
    "total_income_type_pivot = data.pivot_table(index=['total_income_type'], columns='debt', values='gender', aggfunc='count')\n",
    "#Добавим колонку percentage - процент имеющих задолженность по каждой из категорий\n",
    "total_income_type_pivot['percentage']=total_income_type_pivot[1]/total_income_type_pivot[0]*100\n",
    "#Поработаем над внешним видом таблицы\n",
    "total_income_type_pivot.reset_index(inplace=True)\n",
    "total_income_type_pivot_final=total_income_type_pivot[['total_income_type','percentage']]\n",
    "total_income_type_pivot_final.set_axis(['Уровень дохода','Процент имеющих задолженность'],axis = 'columns',inplace = True)\n",
    "#Посмотрим на получившийся итог\n",
    "print(total_income_type_pivot_final.sort_values(by='Процент имеющих задолженность', ascending=False))\n"
   ]
  },
  {
   "cell_type": "markdown",
   "metadata": {},
   "source": [
    "#### Вывод"
   ]
  },
  {
   "cell_type": "markdown",
   "metadata": {},
   "source": [
    "Что не удивительно, самый низкий процент имеющих задолженность по кредитам - среди людей с высоким доходом (более 200 тыс.). Но что удивительно - у людей с низким доходом (до 100 тыс. рублей) он ниже, чем у людей как со средне-низким (100-150 тыс.), так и со средне-высоким (150-200 тыс.) доходом. Самый высокий процент имеющих задолженности - у людей со средне-низкими доходами. Возможно, это связано с тем, что по мере роста дохода запросы и финансовые ожидания людей растут быстрее, чем их реальное благосостояние."
   ]
  },
  {
   "cell_type": "markdown",
   "metadata": {},
   "source": [
    "- Как разные цели кредита влияют на его возврат в срок?"
   ]
  },
  {
   "cell_type": "markdown",
   "metadata": {},
   "source": [
    "Используем примерно тот же алгоритм, что и на двух предыдущих шагах - построим сводную таблицу для разных целей взятия кредита и соответствующего им процента наличия задолженности."
   ]
  },
  {
   "cell_type": "code",
   "execution_count": 34,
   "metadata": {},
   "outputs": [
    {
     "name": "stdout",
     "output_type": "stream",
     "text": [
      "                Цель кредита  Процент имеющих задолженность\n",
      "0                 автомобиль                      10.325391\n",
      "3                образование                      10.156464\n",
      "4                    свадьба                       8.699719\n",
      "2  коммерческая недвижимость                       8.168317\n",
      "1                      жилье                       7.746399\n"
     ]
    }
   ],
   "source": [
    "#Построим первичную сводную таблицу из имеющихся данных\n",
    "purpose_type_pivot = data.pivot_table(index=['purpose_type'], columns='debt', values='gender', aggfunc='count')\n",
    "#Добавим колонку percentage - процент имеющих задолженность по каждой из категорий\n",
    "purpose_type_pivot['percentage']=purpose_type_pivot[1]/purpose_type_pivot[0]*100\n",
    "#Поработаем над внешним видом таблицы\n",
    "purpose_type_pivot.reset_index(inplace=True)\n",
    "purpose_type_pivot_final=purpose_type_pivot[['purpose_type','percentage']]\n",
    "purpose_type_pivot_final.set_axis(['Цель кредита','Процент имеющих задолженность'],axis = 'columns',inplace = True)\n",
    "#Посмотрим на получившийся итог\n",
    "print(purpose_type_pivot_final.sort_values(by='Процент имеющих задолженность', ascending=False))"
   ]
  },
  {
   "cell_type": "markdown",
   "metadata": {},
   "source": [
    "#### Вывод"
   ]
  },
  {
   "cell_type": "markdown",
   "metadata": {},
   "source": [
    "Наибольший процент должников - среди взявших автокредит. Видимо, люди делают это для того, чтобы \"пустить пыль в глаза\", и не оценивают реалистично свои финансовые возможности. Следом по количеству должников к сожалению идет кредит на образование. Но возможно, что дело не невозможности найти хорошую работу параллельно с обучением. Самый низкий процент должников - среди берущих кредит на жилую недвижимость. Видимо, квартира в залоге хорошо прививает финансовую дисциплину."
   ]
  },
  {
   "cell_type": "markdown",
   "metadata": {},
   "source": [
    "### Шаг 4. Общий вывод"
   ]
  },
  {
   "cell_type": "markdown",
   "metadata": {},
   "source": [
    "Выше мы показали, что все факторы, вопросы о которых были заданы, влияют на вероятность погашения кредита в срок. \n",
    "Люди без детей становятся должниками с меньшей вероятностью, чем люди с детьми. Неженатые и незамужние чаще не выплачивают кредит вовремя, чем находящиеся в браке, разведенные или вдовы/вдовцы. Уровень дохода влияет на платежеспособность нелинейно: самые надежные заемщики - люди с высоким доходом, но далее по степени надежности следуют люди с низкими доходами, а уже после них - со средними. Наконец, автокредит и кредит на образование будут выплачены в срок с наименьшей вероятностью, а ипотечный кредит - с наибольшей.\n",
    "Также хотелось бы обратить внимание на то, что работа с данными в столбце \"трудовой стаж\" на стороне банка или их выгрузка организованы неправильно. Если бы перед нами стояла задача оценить влияние этого столбца на платежеспособность, мы бы скорее всего не смогли этого сделать."
   ]
  }
 ],
 "metadata": {
  "kernelspec": {
   "display_name": "Python 3",
   "language": "python",
   "name": "python3"
  },
  "language_info": {
   "codemirror_mode": {
    "name": "ipython",
    "version": 3
   },
   "file_extension": ".py",
   "mimetype": "text/x-python",
   "name": "python",
   "nbconvert_exporter": "python",
   "pygments_lexer": "ipython3",
   "version": "3.8.8"
  },
  "toc": {
   "base_numbering": 1,
   "nav_menu": {},
   "number_sections": true,
   "sideBar": true,
   "skip_h1_title": false,
   "title_cell": "Table of Contents",
   "title_sidebar": "Contents",
   "toc_cell": false,
   "toc_position": {},
   "toc_section_display": true,
   "toc_window_display": false
  }
 },
 "nbformat": 4,
 "nbformat_minor": 2
}
